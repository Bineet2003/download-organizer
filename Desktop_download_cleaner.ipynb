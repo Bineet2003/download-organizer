{
 "cells": [
  {
   "cell_type": "code",
   "execution_count": 1,
   "id": "a059e404-39c0-4fcb-976c-d0c52b778165",
   "metadata": {},
   "outputs": [
    {
     "name": "stdout",
     "output_type": "stream",
     "text": [
      "Moved: Admit Card-1.pdf -> Documents\n",
      "Moved: AWS Certified Cloud Practitioner certificate-2.pdf -> Documents\n",
      "Moved: AWS Certified Solutions Architect - Associate certificate-1.pdf -> Documents\n",
      "Moved: b 1. A Machine Learning-Sentiment Analysis on Monkeypox Outbreak An Extensive Dataset to Show the Polarity of Public Opinion From Twitter Tweets.pdf -> Documents\n",
      "Moved: b 2. A Hybrid Deep Learning Model to Predict the Impact of COVID-19 on Mental Health From Social Media Big Data.pdf -> Documents\n",
      "Moved: b 3.  Emotion Detection From Micro-Blogs Using Novel Input Representation.pdf -> Documents\n",
      "Moved: b 3. Sentiment and Context-Aware Hybrid DNN With Attention for Text Sentiment Classification.pdf -> Documents\n",
      "Moved: Bineet Kumar Patel patelbineet2@gmail.com.pdf -> Documents\n",
      "Moved: bineet patel literature review.docx -> Documents\n",
      "Moved: BineetKumarPatelResume - Copy.pdf -> Documents\n",
      "Moved: desktop.ini -> Others\n",
      "Moved: DT20234720559_Application (3).pdf -> Documents\n",
      "Moved: FALLSEM2024-25_BMGT108L_TH_VL2024250101325_REFERENCE-MATERIAL.pdf -> Documents\n",
      "Moved: in.gov.abc-ABCID-162717117697.pdf -> Documents\n",
      "Moved: LockDownBrowserOEMSetup.exe -> Programs\n",
      "Moved: MSB.exe -> Programs\n",
      "Moved: pan card photo.jpg -> Images\n",
      "Moved: photo.jpg -> Images\n",
      "Moved: python-3.12.6-amd64.exe -> Programs\n",
      "Moved: Resume 1-1.pdf -> Documents\n",
      "Moved: Resume 1.pdf -> Documents\n",
      "Moved: sabtool_win8_10_11_v170530.zip -> Archives\n",
      "Moved: SecureExamBrowserInstaller_en_1.5.5.msi -> Programs\n",
      "Moved: signature 2.jpg -> Images\n",
      "Moved: signature.jpg -> Images\n",
      "Moved: SmartBrowser-1.0.4.exe -> Programs\n",
      "Moved: text_emotion.csv -> Others\n",
      "Moved: vit college id card.jpg -> Images\n",
      "Moved: VL2024250101325_DA-1.pdf -> Documents\n",
      "Moved: VL2024250101325_DA.pdf -> Documents\n"
     ]
    }
   ],
   "source": [
    "import os\n",
    "import shutil\n",
    "\n",
    "# Change this to your Downloads directory path\n",
    "downloads_path = os.path.expanduser(\"~/Downloads\")\n",
    "\n",
    "# Define target directories for different file types\n",
    "folders = {\n",
    "    \"Images\": [\".jpg\", \".jpeg\", \".png\", \".gif\", \".bmp\"],\n",
    "    \"Documents\": [\".pdf\", \".docx\", \".txt\", \".xlsx\", \".pptx\"],\n",
    "    \"Videos\": [\".mp4\", \".mkv\", \".mov\", \".avi\"],\n",
    "    \"Music\": [\".mp3\", \".wav\", \".aac\"],\n",
    "    \"Archives\": [\".zip\", \".rar\", \".7z\", \".tar\"],\n",
    "    \"Programs\": [\".exe\", \".msi\", \".sh\"],\n",
    "}\n",
    "\n",
    "# Create target directories if they don't exist\n",
    "for folder in folders:\n",
    "    target_dir = os.path.join(downloads_path, folder)\n",
    "    os.makedirs(target_dir, exist_ok=True)\n",
    "\n",
    "# Function to move files to their respective directories\n",
    "def organize_files():\n",
    "    for file_name in os.listdir(downloads_path):\n",
    "        file_path = os.path.join(downloads_path, file_name)\n",
    "\n",
    "        # Check if it's a file (not a directory)\n",
    "        if os.path.isfile(file_path):\n",
    "            # Find the appropriate folder for the file based on its extension\n",
    "            moved = False\n",
    "            for folder, extensions in folders.items():\n",
    "                if any(file_name.lower().endswith(ext) for ext in extensions):\n",
    "                    target_path = os.path.join(downloads_path, folder, file_name)\n",
    "                    shutil.move(file_path, target_path)\n",
    "                    print(f\"Moved: {file_name} -> {folder}\")\n",
    "                    moved = True\n",
    "                    break\n",
    "\n",
    "            # Move unknown files to an 'Others' folder\n",
    "            if not moved:\n",
    "                others_path = os.path.join(downloads_path, \"Others\")\n",
    "                os.makedirs(others_path, exist_ok=True)\n",
    "                shutil.move(file_path, os.path.join(others_path, file_name))\n",
    "                print(f\"Moved: {file_name} -> Others\")\n",
    "\n",
    "# Run the organizer function\n",
    "organize_files()"
   ]
  },
  {
   "cell_type": "code",
   "execution_count": null,
   "id": "a3e010d1-2267-4b8e-ac72-6cea55c0dfaf",
   "metadata": {},
   "outputs": [],
   "source": []
  }
 ],
 "metadata": {
  "kernelspec": {
   "display_name": "Python 3 (ipykernel)",
   "language": "python",
   "name": "python3"
  },
  "language_info": {
   "codemirror_mode": {
    "name": "ipython",
    "version": 3
   },
   "file_extension": ".py",
   "mimetype": "text/x-python",
   "name": "python",
   "nbconvert_exporter": "python",
   "pygments_lexer": "ipython3",
   "version": "3.12.6"
  }
 },
 "nbformat": 4,
 "nbformat_minor": 5
}
